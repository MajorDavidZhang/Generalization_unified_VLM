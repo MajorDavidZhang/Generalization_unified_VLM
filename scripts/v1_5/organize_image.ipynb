{
 "cells": [
  {
   "cell_type": "code",
   "execution_count": 13,
   "metadata": {},
   "outputs": [
    {
     "name": "stderr",
     "output_type": "stream",
     "text": [
      "100%|██████████| 10/10 [00:22<00:00,  2.26s/it]\n"
     ]
    }
   ],
   "source": [
    "import os\n",
    "from PIL import Image\n",
    "import torch\n",
    "from tqdm import tqdm\n",
    "\n",
    "\n",
    "# 原始路径列表\n",
    "source_paths = [\n",
    "    f\"/public_data/jihai/understanding/scripts/v1_5/answer/answer-llava-v1.5-7b-vq-vq_68ku_180km-sw-lora-{45*i}-image\"\n",
    "    for i in range(5, 15)\n",
    "]\n",
    "\n",
    "for source_path in tqdm(source_paths):\n",
    "    # 创建目标目录（原目录名 + \"-transferred\"）\n",
    "    target_dir = f\"{source_path}-transferred\"\n",
    "    os.makedirs(target_dir, exist_ok=True)\n",
    "    \n",
    "    # 遍历源目录中的所有.pt文件\n",
    "    for pt_file in os.listdir(source_path):\n",
    "        if not pt_file.endswith('.pt'):\n",
    "            continue\n",
    "        \n",
    "        # 构造完整的文件路径\n",
    "        pt_path = os.path.join(source_path, pt_file)\n",
    "        png_filename = os.path.splitext(pt_file)[0] + '.png'\n",
    "        png_path = os.path.join(target_dir, png_filename)\n",
    "        \n",
    "        try:\n",
    "            # 加载.pt文件（假设存储的是图像张量）\n",
    "            img_tensor = torch.load(pt_path)\n",
    "            \n",
    "            # 转换为PIL图像\n",
    "            img = Image.fromarray(img_tensor.numpy())\n",
    "            \n",
    "            # 保存为PNG\n",
    "            img.save(png_path)\n",
    "            #print(f\"Converted: {pt_path} -> {png_path}\")\n",
    "            \n",
    "        except Exception as e:\n",
    "            print(f\"Error converting {pt_path}: {str(e)}\")"
   ]
  },
  {
   "cell_type": "code",
   "execution_count": 14,
   "metadata": {},
   "outputs": [
    {
     "name": "stdout",
     "output_type": "stream",
     "text": [
      "Calculating FID for /public_data/jihai/understanding/scripts/v1_5/answer/answer-llava-v1.5-7b-vq-vq_68ku_180km-sw-lora-225-image-transferred\n",
      "FID计算完成: 182.95791657214625\n",
      "Calculating FID for /public_data/jihai/understanding/scripts/v1_5/answer/answer-llava-v1.5-7b-vq-vq_68ku_180km-sw-lora-270-image-transferred\n",
      "FID计算完成: 201.46815061505117\n",
      "Calculating FID for /public_data/jihai/understanding/scripts/v1_5/answer/answer-llava-v1.5-7b-vq-vq_68ku_180km-sw-lora-315-image-transferred\n",
      "FID计算完成: 196.35025107756644\n",
      "Calculating FID for /public_data/jihai/understanding/scripts/v1_5/answer/answer-llava-v1.5-7b-vq-vq_68ku_180km-sw-lora-360-image-transferred\n",
      "FID计算完成: 162.41236332381658\n",
      "Calculating FID for /public_data/jihai/understanding/scripts/v1_5/answer/answer-llava-v1.5-7b-vq-vq_68ku_180km-sw-lora-405-image-transferred\n",
      "FID计算完成: 186.08832933109505\n",
      "Calculating FID for /public_data/jihai/understanding/scripts/v1_5/answer/answer-llava-v1.5-7b-vq-vq_68ku_180km-sw-lora-450-image-transferred\n",
      "FID计算完成: 192.49304965556064\n",
      "Calculating FID for /public_data/jihai/understanding/scripts/v1_5/answer/answer-llava-v1.5-7b-vq-vq_68ku_180km-sw-lora-495-image-transferred\n",
      "FID计算完成: 169.64266823893837\n",
      "Calculating FID for /public_data/jihai/understanding/scripts/v1_5/answer/answer-llava-v1.5-7b-vq-vq_68ku_180km-sw-lora-540-image-transferred\n",
      "FID计算完成: 175.2155943504974\n",
      "Calculating FID for /public_data/jihai/understanding/scripts/v1_5/answer/answer-llava-v1.5-7b-vq-vq_68ku_180km-sw-lora-585-image-transferred\n",
      "FID计算完成: 186.65284964323354\n",
      "Calculating FID for /public_data/jihai/understanding/scripts/v1_5/answer/answer-llava-v1.5-7b-vq-vq_68ku_180km-sw-lora-630-image-transferred\n",
      "FID计算完成: 188.0998300865304\n"
     ]
    }
   ],
   "source": [
    "import subprocess\n",
    "import csv\n",
    "\n",
    "def calculate_fid(converted_path):\n",
    "    \"\"\"调用pytorch_fid计算FID分数\"\"\"\n",
    "    try:\n",
    "        cmd = [\n",
    "            \"python\", \"-m\", \"pytorch_fid\",\n",
    "            converted_path,\n",
    "            GT_PATH,\n",
    "            \"--device\", CUDA_DEVICE\n",
    "        ]\n",
    "        result = subprocess.run(cmd, capture_output=True, text=True, check=True)\n",
    "        \n",
    "        # 解析输出结果\n",
    "        for line in result.stdout.split('\\n'):\n",
    "            if line.startswith(\"FID:\"):\n",
    "                return float(line.split()[1])\n",
    "                \n",
    "    except subprocess.CalledProcessError as e:\n",
    "        print(f\"FID计算失败: {e.stderr}\")\n",
    "        return \"ERROR\"\n",
    "    except Exception as e:\n",
    "        print(f\"解析错误: {str(e)}\")\n",
    "        return \"PARSE_ERROR\"\n",
    "    return None\n",
    "\n",
    "GT_PATH = \"/public_data/jihai/data/multimodalout/smart_watch_image_test\"\n",
    "CUDA_DEVICE = \"cuda:7\"\n",
    "RESULT_CSV = \"fid_results.csv\"\n",
    "\n",
    "# 初始化结果存储\n",
    "fid_results = []\n",
    "\n",
    "# 计算所有FID\n",
    "for source_path in source_paths:\n",
    "    target_dir = f\"{source_path}-transferred\"\n",
    "    print(f\"Calculating FID for {target_dir}\")\n",
    "    fid_score = calculate_fid(target_dir)\n",
    "    fid_results.append(fid_score)\n",
    "    print(f\"FID计算完成: {fid_score}\")\n",
    "\n",
    "# 写入CSV文件（单行）\n",
    "with open(RESULT_CSV, 'w', newline='') as f:\n",
    "    writer = csv.writer(f)\n",
    "    \n",
    "    # 创建表头\n",
    "    headers = [f\"Model_{i+1}\" for i in range(len(source_paths))]\n",
    "    \n",
    "    # 写入表头和结果\n",
    "    writer.writerow(headers)\n",
    "    writer.writerow(fid_results)\n"
   ]
  },
  {
   "cell_type": "code",
   "execution_count": null,
   "metadata": {},
   "outputs": [],
   "source": []
  }
 ],
 "metadata": {
  "kernelspec": {
   "display_name": "multimodal",
   "language": "python",
   "name": "python3"
  },
  "language_info": {
   "codemirror_mode": {
    "name": "ipython",
    "version": 3
   },
   "file_extension": ".py",
   "mimetype": "text/x-python",
   "name": "python",
   "nbconvert_exporter": "python",
   "pygments_lexer": "ipython3",
   "version": "3.9.21"
  }
 },
 "nbformat": 4,
 "nbformat_minor": 2
}
