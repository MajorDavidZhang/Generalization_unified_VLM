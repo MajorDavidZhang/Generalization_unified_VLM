{
 "cells": [
  {
   "cell_type": "code",
   "execution_count": 10,
   "metadata": {},
   "outputs": [
    {
     "name": "stderr",
     "output_type": "stream",
     "text": [
      "100%|██████████| 1/1 [00:02<00:00,  2.44s/it]\n"
     ]
    }
   ],
   "source": [
    "import os\n",
    "from PIL import Image\n",
    "import torch\n",
    "from tqdm import tqdm\n",
    "\n",
    "\n",
    "# 原始路径列表\n",
    "source_paths = [\n",
    "    f\"/public_data/jihai/understanding/scripts/v1_5/answer/answer-llava-v1.5-7b-vq-vq-af2-sw-lora-{45*i}-image\"\n",
    "    for i in range(10, 11)\n",
    "]\n",
    "\n",
    "for source_path in tqdm(source_paths):\n",
    "    # 创建目标目录（原目录名 + \"-transferred\"）\n",
    "    target_dir = f\"{source_path}-transferred\"\n",
    "    os.makedirs(target_dir, exist_ok=True)\n",
    "    \n",
    "    # 遍历源目录中的所有.pt文件\n",
    "    for pt_file in os.listdir(source_path):\n",
    "        if not pt_file.endswith('.pt'):\n",
    "            continue\n",
    "        \n",
    "        # 构造完整的文件路径\n",
    "        pt_path = os.path.join(source_path, pt_file)\n",
    "        png_filename = os.path.splitext(pt_file)[0] + '.png'\n",
    "        png_path = os.path.join(target_dir, png_filename)\n",
    "        \n",
    "        try:\n",
    "            # 加载.pt文件（假设存储的是图像张量）\n",
    "            img_tensor = torch.load(pt_path)\n",
    "            \n",
    "            # 转换为PIL图像\n",
    "            img = Image.fromarray(img_tensor.numpy())\n",
    "            \n",
    "            # 保存为PNG\n",
    "            img.save(png_path)\n",
    "            #print(f\"Converted: {pt_path} -> {png_path}\")\n",
    "            \n",
    "        except Exception as e:\n",
    "            print(f\"Error converting {pt_path}: {str(e)}\")"
   ]
  },
  {
   "cell_type": "code",
   "execution_count": 11,
   "metadata": {},
   "outputs": [
    {
     "name": "stdout",
     "output_type": "stream",
     "text": [
      "Calculating FID for /public_data/jihai/understanding/scripts/v1_5/answer/answer-llava-v1.5-7b-vq-vq-af2-sw-lora-450-image-transferred\n",
      "FID计算完成: 195.36088087017606\n"
     ]
    }
   ],
   "source": [
    "import subprocess\n",
    "import csv\n",
    "\n",
    "# source_paths = [\n",
    "#     f\"/public_data/jihai/understanding/scripts/v1_5/answer/answer-llava-v1.5-7b-siglip-vq_180ku_180km-sw-lora-{45*i}-image\"\n",
    "#     for i in range(20, 21)\n",
    "# ]\n",
    "\n",
    "def calculate_fid(converted_path):\n",
    "    \"\"\"调用pytorch_fid计算FID分数\"\"\"\n",
    "    try:\n",
    "        cmd = [\n",
    "            \"python\", \"-m\", \"pytorch_fid\",\n",
    "            converted_path,\n",
    "            GT_PATH,\n",
    "            \"--device\", CUDA_DEVICE\n",
    "        ]\n",
    "        result = subprocess.run(cmd, capture_output=True, text=True, check=True)\n",
    "        \n",
    "        # 解析输出结果\n",
    "        for line in result.stdout.split('\\n'):\n",
    "            if line.startswith(\"FID:\"):\n",
    "                return float(line.split()[1])\n",
    "                \n",
    "    except subprocess.CalledProcessError as e:\n",
    "        print(f\"FID计算失败: {e.stderr}\")\n",
    "        return \"ERROR\"\n",
    "    except Exception as e:\n",
    "        print(f\"解析错误: {str(e)}\")\n",
    "        return \"PARSE_ERROR\"\n",
    "    return None\n",
    "\n",
    "GT_PATH = \"/public_data/jihai/data/multimodalout/smart_watch_image_test\"\n",
    "CUDA_DEVICE = \"cuda:7\"\n",
    "RESULT_CSV = \"fid_results.csv\"\n",
    "\n",
    "# 初始化结果存储\n",
    "fid_results = []\n",
    "\n",
    "# 计算所有FID\n",
    "for source_path in source_paths:\n",
    "    target_dir = f\"{source_path}-transferred\"\n",
    "    print(f\"Calculating FID for {target_dir}\")\n",
    "    fid_score = calculate_fid(target_dir)\n",
    "    fid_results.append(fid_score)\n",
    "    print(f\"FID计算完成: {fid_score}\")\n",
    "\n",
    "# 写入CSV文件（单行）\n",
    "with open(RESULT_CSV, 'w', newline='') as f:\n",
    "    writer = csv.writer(f)\n",
    "    \n",
    "    # 创建表头\n",
    "    headers = [f\"Model_{i+1}\" for i in range(len(source_paths))]\n",
    "    \n",
    "    # 写入表头和结果\n",
    "    writer.writerow(headers)\n",
    "    writer.writerow(fid_results)\n"
   ]
  },
  {
   "cell_type": "code",
   "execution_count": 3,
   "metadata": {},
   "outputs": [
    {
     "name": "stderr",
     "output_type": "stream",
     "text": [
      "  3%|▎         | 2000/60000 [00:00<00:03, 18125.73it/s]"
     ]
    },
    {
     "name": "stdout",
     "output_type": "stream",
     "text": [
      "完成！共拷贝 2000 个文件到 /public_data/jihai/data/multimodalout/smart_watch_image_2k\n"
     ]
    },
    {
     "name": "stderr",
     "output_type": "stream",
     "text": [
      "\n"
     ]
    }
   ],
   "source": [
    "import os\n",
    "import shutil\n",
    "from pathlib import Path\n",
    "from tqdm import tqdm\n",
    "\n",
    "def copy_first_n_images(src_folder, dst_folder, n=2000):\n",
    "    # 确保源文件夹存在\n",
    "    src_path = Path(src_folder)\n",
    "    if not src_path.exists() or not src_path.is_dir():\n",
    "        print(f\"源文件夹 {src_folder} 不存在！\")\n",
    "        return\n",
    "\n",
    "    # 创建目标文件夹（如果已存在则先删除）\n",
    "    dst_path = Path(dst_folder)\n",
    "    if dst_path.exists():\n",
    "        shutil.rmtree(dst_path)  # 删除已有文件夹\n",
    "    dst_path.mkdir(parents=True, exist_ok=True)\n",
    "\n",
    "    # 获取所有 PNG 文件并按名称排序\n",
    "    files = sorted(src_path.glob(\"*.png\"), key=lambda f: f.name)  # 按文件名排序\n",
    "    # 如果需要按修改时间排序，可以改用：\n",
    "    # files = sorted(src_path.glob(\"*.png\"), key=lambda f: f.stat().st_mtime)\n",
    "\n",
    "    # 拷贝前 N 个文件\n",
    "    copied = 0\n",
    "    for file in tqdm(files):\n",
    "        if copied >= n:\n",
    "            break\n",
    "        shutil.copy(file, dst_path / file.name)\n",
    "        copied += 1\n",
    "       \n",
    "\n",
    "    print(f\"完成！共拷贝 {copied} 个文件到 {dst_folder}\")\n",
    "\n",
    "# 使用示例\n",
    "copy_first_n_images(\n",
    "    src_folder=\"/public_data/jihai/data/multimodalout/smart_watch_image_train\",  # 替换为你的源文件夹路径（如 \"/data/images\"）\n",
    "    dst_folder=\"/public_data/jihai/data/multimodalout/smart_watch_image_2k\",    # 替换为目标文件夹名称（如 \"/data/images_subset\"）\n",
    "    n=2000\n",
    ")"
   ]
  },
  {
   "cell_type": "code",
   "execution_count": null,
   "metadata": {},
   "outputs": [],
   "source": []
  }
 ],
 "metadata": {
  "kernelspec": {
   "display_name": "multimodal",
   "language": "python",
   "name": "python3"
  },
  "language_info": {
   "codemirror_mode": {
    "name": "ipython",
    "version": 3
   },
   "file_extension": ".py",
   "mimetype": "text/x-python",
   "name": "python",
   "nbconvert_exporter": "python",
   "pygments_lexer": "ipython3",
   "version": "3.9.21"
  }
 },
 "nbformat": 4,
 "nbformat_minor": 2
}
