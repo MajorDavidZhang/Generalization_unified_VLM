{
 "cells": [
  {
   "cell_type": "code",
   "execution_count": null,
   "metadata": {},
   "outputs": [
    {
     "name": "stderr",
     "output_type": "stream",
     "text": [
      "200it [00:00, 10804.77it/s]\n"
     ]
    },
    {
     "name": "stdout",
     "output_type": "stream",
     "text": [
      "generation_accuracy:0.3333333333333333\n",
      "time_accuracy:0.051587301587301584\n",
      "color_accuracy:0.9523809523809523\n"
     ]
    },
    {
     "name": "stderr",
     "output_type": "stream",
     "text": [
      "200it [00:00, 5660.56it/s]\n"
     ]
    },
    {
     "name": "stdout",
     "output_type": "stream",
     "text": [
      "generation_accuracy:0.5242200328407225\n",
      "time_accuracy:0.027777777777777776\n",
      "color_accuracy:0.7261904761904762\n"
     ]
    },
    {
     "name": "stderr",
     "output_type": "stream",
     "text": [
      "200it [00:00, 10589.67it/s]\n"
     ]
    },
    {
     "name": "stdout",
     "output_type": "stream",
     "text": [
      "generation_accuracy:0.7830459770114943\n",
      "time_accuracy:0.8333333333333334\n",
      "color_accuracy:0.8690476190476191\n"
     ]
    },
    {
     "name": "stderr",
     "output_type": "stream",
     "text": [
      "200it [00:00, 5518.28it/s]\n"
     ]
    },
    {
     "name": "stdout",
     "output_type": "stream",
     "text": [
      "generation_accuracy:0.9113300492610837\n",
      "time_accuracy:1.0\n",
      "color_accuracy:0.9761904761904762\n"
     ]
    },
    {
     "name": "stderr",
     "output_type": "stream",
     "text": [
      "138it [00:00, 5153.49it/s]"
     ]
    },
    {
     "name": "stdout",
     "output_type": "stream",
     "text": [
      "generation_accuracy:0.9206349206349206\n",
      "time_accuracy:1.0\n",
      "color_accuracy:0.9473684210526315\n",
      "tensor([0.3333, 0.5242, 0.7830, 0.9113, 0.9206])\n",
      "tensor([0.0516, 0.0278, 0.8333, 1.0000, 1.0000])\n",
      "tensor([0.9524, 0.7262, 0.8690, 0.9762, 0.9474])\n"
     ]
    },
    {
     "name": "stderr",
     "output_type": "stream",
     "text": [
      "\n"
     ]
    }
   ],
   "source": [
    "import json\n",
    "from tqdm import tqdm\n",
    "import re\n",
    "import torch\n",
    "\n",
    "# 定义 color_mapping\n",
    "color_mapping = {\n",
    "    'red': [0.1, 0.15],\n",
    "    'green': [0.15, 0.3],\n",
    "    'blue': [0.3, 0.45],\n",
    "    'yellow': [0.45, 0.6],\n",
    "    'orange': [0.6, 0.75],\n",
    "    'purple': [0.75, 0.9]\n",
    "}\n",
    "\n",
    "# 提取所有颜色\n",
    "colors = color_mapping.keys()\n",
    "\n",
    "# 检查颜色是否存在于字符串中\n",
    "def find_colors_in_string(input_string):\n",
    "    found_colors = [color for color in colors if color in input_string]\n",
    "    return found_colors\n",
    "\n",
    "\n",
    "def map_to_color(pixel):\n",
    "    if pixel<0.1:\n",
    "        return 'black'\n",
    "    elif 0.1<=pixel<0.15:\n",
    "        return 'red'\n",
    "    elif 0.15<=pixel<0.3:\n",
    "        return 'green'\n",
    "    elif 0.3<=pixel<0.45:\n",
    "        return 'blue'\n",
    "    elif 0.45<=pixel<0.6:\n",
    "        return 'yellow'\n",
    "    elif 0.6<=pixel<0.75:\n",
    "        return 'orange'\n",
    "    elif 0.75<=pixel<=0.9:\n",
    "        return 'purple'\n",
    "    else:\n",
    "        return 'other'\n",
    "\n",
    "def compare_img(gen_img,gt_img):\n",
    "    correct_pixel=0\n",
    "    incorrect_pixel=0\n",
    "    for i in range(len(gen_img)):\n",
    "        for j in range(len(gen_img[i])):\n",
    "            if map_to_color(gen_img[i][j])!=map_to_color(gt_img[i][j]):\n",
    "                incorrect_pixel+=1\n",
    "            else:\n",
    "                correct_pixel+=1\n",
    "    return correct_pixel,incorrect_pixel\n",
    "\n",
    "acc=[]\n",
    "answer_list=[i*45 for i in range(1,2)]\n",
    "for answer in answer_list:\n",
    "    #data_path=f'/datadrive_a/jihai/LLaVA/answer/answer-llava-v1.5-7b-mix-u-odd-{i}.jsonl'\n",
    "    data_path=f'./answer/answer-llava-v1.5-7b-sw-lora-{answer}.jsonl'\n",
    "    time_count=0\n",
    "    time_score=0\n",
    "    weather_count=0\n",
    "    weather_score=0\n",
    "    position_count=0\n",
    "    position_score=0\n",
    "    battery_count=0\n",
    "    battery_score=0\n",
    "    with open (data_path, \"r\") as f:\n",
    "        for line in tqdm(f):\n",
    "            json_obj = json.loads(line.strip())\n",
    "            ground_truth=json_obj['groun_truth']\n",
    "            answer=json_obj['answer']\n",
    "            if ' ' not in ground_truth:\n",
    "                if ':' in ground_truth:\n",
    "                    time_count+=1\n",
    "                    pattern = r\"^(\\d{2}):(\\d{2}):(\\d{2})$\"\n",
    "                    match = re.match(pattern, ground_truth)\n",
    "                    gt_h = int(match.group(1))\n",
    "                    gt_m = int(match.group(2))\n",
    "                    gt_s = int(match.group(3))\n",
    "                    match = re.match(pattern, answer)\n",
    "                    if match:\n",
    "                        ans_h = int(match.group(1))\n",
    "                        ans_m = int(match.group(2))\n",
    "                        ans_s = int(match.group(3))\n",
    "                        err=(abs(ans_h - gt_h)/6.0 + abs(ans_m - gt_m)/30.0 + abs(ans_s - gt_s)/30.0)/3.0\n",
    "                        time_score+=1-err\n",
    "                elif 'sunny' in ground_truth or 'raining' in ground_truth or 'cloudy' in ground_truth:\n",
    "                    weather_count+=1\n",
    "                    if ground_truth in answer:\n",
    "                        weather_score+=1\n",
    "                elif '-' in ground_truth:\n",
    "                    position_count+=1\n",
    "                    if ground_truth in answer:\n",
    "                        position_score+=1\n",
    "                elif '%' in ground_truth:\n",
    "                    battery_count+=1\n",
    "                    match = re.search(r'\\b(100|[1-9]\\d?|0)%', ground_truth)\n",
    "                    gt=int(match.group(1)) / 100\n",
    "                    match = re.search(r'\\b(100|[1-9]\\d?|0)%', answer)\n",
    "                    if match:\n",
    "                        ans=int(match.group(1)) / 100\n",
    "                        err=abs(ans - gt)\n",
    "                        battery_score+=1-err\n",
    "                else:\n",
    "                    raise ValueError(f\"Unknown ground truth format: {ground_truth}\")\n",
    "    time_acc=time_score/time_count\n",
    "    weather_acc=weather_score/weather_count\n",
    "    position_acc=position_score/position_count\n",
    "    battery_acc=battery_score/battery_count\n",
    "    total_acc=(time_score+weather_score+position_score+battery_score)/(time_count+weather_count+position_count+battery_count)\n",
    "    acc.append([time_acc,weather_acc,position_acc,battery_acc,total_acc])\n",
    "    print(f\"time_acc: {time_acc:.4f}, weather_acc: {weather_acc:.4f}, position_acc: {position_acc:.4f}, battery_acc: {battery_acc:.4f}, total_acc: {total_acc:.4f}\")\n",
    "acc=torch.Tensor(acc)\n",
    "acc=acc.permute(1,0)\n",
    "print(f\"time_acc:{acc[0]}\")\n",
    "print(f\"weather_acc:{acc[1]}\")\n",
    "print(f\"position_acc:{acc[2]}\")\n",
    "print(f\"battery_acc:{acc[3]}\")\n",
    "print(f\"total_acc:{acc[4]}\")\n"
   ]
  },
  {
   "cell_type": "code",
   "execution_count": 2,
   "metadata": {},
   "outputs": [
    {
     "name": "stdout",
     "output_type": "stream",
     "text": [
      "0.6\n",
      "0.1\n",
      "0.0\n"
     ]
    }
   ],
   "source": [
    "import re\n",
    "def parse_percent(s):\n",
    "    match = re.search(r'\\b(100|[1-9]\\d?|0)%', s)\n",
    "    if match:\n",
    "        return int(match.group(1)) / 100\n",
    "    return None\n",
    "\n",
    "# 示例\n",
    "print(parse_percent('60%'))    # 输出: 0.65\n",
    "print(parse_percent('10%'))   # 输出: 1.0\n",
    "print(parse_percent('0%'))     # 输出: 0.0"
   ]
  },
  {
   "cell_type": "code",
   "execution_count": 8,
   "metadata": {},
   "outputs": [
    {
     "name": "stdout",
     "output_type": "stream",
     "text": [
      "tensor([[[[4., 9., 5., 4.],\n",
      "          [2., 1., 4., 2.],\n",
      "          [6., 6., 6., 7.],\n",
      "          [5., 2., 1., 2.]]]])\n"
     ]
    }
   ],
   "source": [
    "from sklearn import kernel_approximation\n",
    "import torch\n",
    "import torch.nn.functional as F\n",
    "padded_input=torch.Tensor([[0., 0., 0., 1., 0., 0.],\n",
    "        [1., 0., 1., 1., 1., 0.],\n",
    "        [0., 0., 0., 0., 0., 0.],\n",
    "        [0., 0., 1., 1., 0., 0.],\n",
    "        [0., 0., 0., 1., 0., 0.],\n",
    "        [1., 0., 1., 1., 1., 0.]]).unsqueeze(0).unsqueeze(0)\n",
    "padded_input=torch.Tensor([[0., 1., 1., 1., 0., 1.],\n",
    "        [0., 0., 0., 0., 0., 0.],\n",
    "        [0., 1., 1., 0., 0., 1.],\n",
    "        [0., 0., 1., 0., 0., 0.],\n",
    "        [0., 1., 1., 1., 0., 1.],\n",
    "        [0., 0., 0., 0., 0., 0.]]).unsqueeze(0).unsqueeze(0)\n",
    "kernel=torch.Tensor([[1, 0, 3],\n",
    "    [0, 0, 2],\n",
    "    [4, 1, 0]]).unsqueeze(0).unsqueeze(0) \n",
    "output = F.conv2d(padded_input, kernel, stride=1)\n",
    "print(output)"
   ]
  }
 ],
 "metadata": {
  "kernelspec": {
   "display_name": "multimodal",
   "language": "python",
   "name": "python3"
  },
  "language_info": {
   "codemirror_mode": {
    "name": "ipython",
    "version": 3
   },
   "file_extension": ".py",
   "mimetype": "text/x-python",
   "name": "python",
   "nbconvert_exporter": "python",
   "pygments_lexer": "ipython3",
   "version": "3.9.21"
  }
 },
 "nbformat": 4,
 "nbformat_minor": 2
}
