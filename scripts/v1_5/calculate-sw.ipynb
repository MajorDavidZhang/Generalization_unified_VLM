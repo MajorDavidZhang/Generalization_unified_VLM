{
 "cells": [
  {
   "cell_type": "code",
   "execution_count": 9,
   "metadata": {},
   "outputs": [
    {
     "name": "stderr",
     "output_type": "stream",
     "text": [
      "499it [00:00, 163359.17it/s]\n"
     ]
    },
    {
     "name": "stdout",
     "output_type": "stream",
     "text": [
      "time_acc: 0.4787, weather_acc: 1.0000, position_acc: 1.0000, battery_acc: 0.8388, total_acc: 0.8521\n"
     ]
    },
    {
     "name": "stderr",
     "output_type": "stream",
     "text": [
      "499it [00:00, 178458.19it/s]\n"
     ]
    },
    {
     "name": "stdout",
     "output_type": "stream",
     "text": [
      "time_acc: 0.5025, weather_acc: 1.0000, position_acc: 1.0000, battery_acc: 0.9317, total_acc: 0.8794\n"
     ]
    },
    {
     "name": "stderr",
     "output_type": "stream",
     "text": [
      "499it [00:00, 174587.73it/s]\n"
     ]
    },
    {
     "name": "stdout",
     "output_type": "stream",
     "text": [
      "time_acc: 0.4879, weather_acc: 1.0000, position_acc: 1.0000, battery_acc: 0.9647, total_acc: 0.8842\n"
     ]
    },
    {
     "name": "stderr",
     "output_type": "stream",
     "text": [
      "499it [00:00, 153184.34it/s]\n"
     ]
    },
    {
     "name": "stdout",
     "output_type": "stream",
     "text": [
      "time_acc: 0.5117, weather_acc: 1.0000, position_acc: 1.0000, battery_acc: 0.9618, total_acc: 0.8885\n"
     ]
    },
    {
     "name": "stderr",
     "output_type": "stream",
     "text": [
      "499it [00:00, 160737.09it/s]\n"
     ]
    },
    {
     "name": "stdout",
     "output_type": "stream",
     "text": [
      "time_acc: 0.5562, weather_acc: 1.0000, position_acc: 1.0000, battery_acc: 0.9667, total_acc: 0.8990\n"
     ]
    },
    {
     "name": "stderr",
     "output_type": "stream",
     "text": [
      "499it [00:00, 162295.11it/s]\n"
     ]
    },
    {
     "name": "stdout",
     "output_type": "stream",
     "text": [
      "time_acc: 0.5213, weather_acc: 1.0000, position_acc: 1.0000, battery_acc: 0.9690, total_acc: 0.8922\n"
     ]
    },
    {
     "name": "stderr",
     "output_type": "stream",
     "text": [
      "499it [00:00, 167115.75it/s]\n"
     ]
    },
    {
     "name": "stdout",
     "output_type": "stream",
     "text": [
      "time_acc: 0.5175, weather_acc: 1.0000, position_acc: 1.0000, battery_acc: 0.9745, total_acc: 0.8928\n"
     ]
    },
    {
     "name": "stderr",
     "output_type": "stream",
     "text": [
      "499it [00:00, 174835.66it/s]\n"
     ]
    },
    {
     "name": "stdout",
     "output_type": "stream",
     "text": [
      "time_acc: 0.5400, weather_acc: 1.0000, position_acc: 1.0000, battery_acc: 0.9783, total_acc: 0.8984\n"
     ]
    },
    {
     "name": "stderr",
     "output_type": "stream",
     "text": [
      "499it [00:00, 169538.90it/s]\n"
     ]
    },
    {
     "name": "stdout",
     "output_type": "stream",
     "text": [
      "time_acc: 0.5375, weather_acc: 1.0000, position_acc: 1.0000, battery_acc: 0.9742, total_acc: 0.8969\n"
     ]
    },
    {
     "name": "stderr",
     "output_type": "stream",
     "text": [
      "499it [00:00, 157211.57it/s]"
     ]
    },
    {
     "name": "stdout",
     "output_type": "stream",
     "text": [
      "time_acc: 0.5600, weather_acc: 1.0000, position_acc: 1.0000, battery_acc: 0.9748, total_acc: 0.9017\n",
      "time_acc:tensor([0.4787, 0.5025, 0.4879, 0.5117, 0.5562, 0.5213, 0.5175, 0.5400, 0.5375,\n",
      "        0.5600])\n",
      "weather_acc:tensor([1., 1., 1., 1., 1., 1., 1., 1., 1., 1.])\n",
      "position_acc:tensor([1., 1., 1., 1., 1., 1., 1., 1., 1., 1.])\n",
      "battery_acc:tensor([0.8388, 0.9317, 0.9647, 0.9617, 0.9668, 0.9690, 0.9745, 0.9783, 0.9743,\n",
      "        0.9747])\n",
      "total_acc:tensor([0.8521, 0.8794, 0.8842, 0.8885, 0.8990, 0.8922, 0.8928, 0.8984, 0.8969,\n",
      "        0.9017])\n"
     ]
    },
    {
     "name": "stderr",
     "output_type": "stream",
     "text": [
      "\n"
     ]
    }
   ],
   "source": [
    "import json\n",
    "from tqdm import tqdm\n",
    "import re\n",
    "import torch\n",
    "import pandas as pd\n",
    "# 定义 color_mapping\n",
    "color_mapping = {\n",
    "    'red': [0.1, 0.15],\n",
    "    'green': [0.15, 0.3],\n",
    "    'blue': [0.3, 0.45],\n",
    "    'yellow': [0.45, 0.6],\n",
    "    'orange': [0.6, 0.75],\n",
    "    'purple': [0.75, 0.9]\n",
    "}\n",
    "\n",
    "# 提取所有颜色\n",
    "colors = color_mapping.keys()\n",
    "\n",
    "# 检查颜色是否存在于字符串中\n",
    "def find_colors_in_string(input_string):\n",
    "    found_colors = [color for color in colors if color in input_string]\n",
    "    return found_colors\n",
    "\n",
    "\n",
    "def map_to_color(pixel):\n",
    "    if pixel<0.1:\n",
    "        return 'black'\n",
    "    elif 0.1<=pixel<0.15:\n",
    "        return 'red'\n",
    "    elif 0.15<=pixel<0.3:\n",
    "        return 'green'\n",
    "    elif 0.3<=pixel<0.45:\n",
    "        return 'blue'\n",
    "    elif 0.45<=pixel<0.6:\n",
    "        return 'yellow'\n",
    "    elif 0.6<=pixel<0.75:\n",
    "        return 'orange'\n",
    "    elif 0.75<=pixel<=0.9:\n",
    "        return 'purple'\n",
    "    else:\n",
    "        return 'other'\n",
    "\n",
    "def compare_img(gen_img,gt_img):\n",
    "    correct_pixel=0\n",
    "    incorrect_pixel=0\n",
    "    for i in range(len(gen_img)):\n",
    "        for j in range(len(gen_img[i])):\n",
    "            if map_to_color(gen_img[i][j])!=map_to_color(gt_img[i][j]):\n",
    "                incorrect_pixel+=1\n",
    "            else:\n",
    "                correct_pixel+=1\n",
    "    return correct_pixel,incorrect_pixel\n",
    "\n",
    "acc=[]\n",
    "answer_list=[i*45 for i in range(5,15)]\n",
    "for answer in answer_list:\n",
    "    #data_path=f'/datadrive_a/jihai/LLaVA/answer/answer-llava-v1.5-7b-mix-u-odd-{i}.jsonl'\n",
    "    data_path=f'./answer/answer-llava-v1.5-7b-vq-vq_68ku_180km-sw-lora-{answer}.jsonl'\n",
    "    time_count=0\n",
    "    time_score=0\n",
    "    weather_count=0\n",
    "    weather_score=0\n",
    "    position_count=0\n",
    "    position_score=0\n",
    "    battery_count=0\n",
    "    battery_score=0\n",
    "    with open (data_path, \"r\") as f:\n",
    "        for line in tqdm(f):\n",
    "            json_obj = json.loads(line.strip())\n",
    "            ground_truth=json_obj['groun_truth']\n",
    "            answer=json_obj['answer']\n",
    "            prompt=json_obj['prompt']\n",
    "            if prompt[0]!='<':\n",
    "                continue\n",
    "            if ' ' not in ground_truth:\n",
    "                if ':' in ground_truth:\n",
    "                    time_count+=1\n",
    "                    pattern = r\"(\\d{2}):(\\d{2}):(\\d{2})\"\n",
    "                    match = re.search(pattern, ground_truth)\n",
    "                    gt_h = int(match.group(1))\n",
    "                    gt_m = int(match.group(2))\n",
    "                    gt_s = int(match.group(3))\n",
    "                    match = re.search(pattern, answer)\n",
    "                    if match:\n",
    "                        ans_h = int(match.group(1))\n",
    "                        ans_m = int(match.group(2))\n",
    "                        ans_s = int(match.group(3))\n",
    "                        err_h=abs(ans_h - gt_h)\n",
    "                        err_h=min(err_h,12-err_h)\n",
    "                        err_m=abs(ans_m - gt_m)\n",
    "                        err_m=min(err_m,60-err_m)\n",
    "                        err_s=abs(ans_s - gt_s)\n",
    "                        err_s=min(err_s,60-err_s)\n",
    "                        err=(err_h/6.0 + err_m/30.0 + err_s/30.0)/3.0\n",
    "    \n",
    "                        time_score+=1-err\n",
    "                elif 'sunny' in ground_truth or 'raining' in ground_truth or 'cloudy' in ground_truth:\n",
    "                    weather_count+=1\n",
    "                    if ground_truth in answer:\n",
    "                        weather_score+=1\n",
    "                elif '-' in ground_truth:\n",
    "                    position_count+=1\n",
    "                    if ground_truth in answer:\n",
    "                        position_score+=1\n",
    "                elif '%' in ground_truth:\n",
    "                    battery_count+=1\n",
    "                    match = re.search(r'\\b(100|[1-9]\\d?|0)%', ground_truth)\n",
    "                    gt=int(match.group(1)) / 100\n",
    "                    match = re.search(r'\\b(100|[1-9]\\d?|0)%', answer)\n",
    "                    if match:\n",
    "                        ans=int(match.group(1)) / 100\n",
    "                        err=abs(ans - gt)\n",
    "                        battery_score+=1-err\n",
    "                else:\n",
    "                    raise ValueError(f\"Unknown ground truth format: {ground_truth}\")\n",
    "    time_acc=time_score/time_count\n",
    "    weather_acc=weather_score/weather_count\n",
    "    position_acc=position_score/position_count\n",
    "    battery_acc=battery_score/battery_count\n",
    "    total_acc=(time_score+weather_score+position_score+battery_score)/(time_count+weather_count+position_count+battery_count)\n",
    "    acc.append([time_acc,weather_acc,position_acc,battery_acc,total_acc])\n",
    "    print(f\"time_acc: {time_acc:.4f}, weather_acc: {weather_acc:.4f}, position_acc: {position_acc:.4f}, battery_acc: {battery_acc:.4f}, total_acc: {total_acc:.4f}\")\n",
    "acc=torch.Tensor(acc)\n",
    "acc=acc.permute(1,0)\n",
    "print(f\"time_acc:{acc[0]}\")\n",
    "print(f\"weather_acc:{acc[1]}\")\n",
    "print(f\"position_acc:{acc[2]}\")\n",
    "print(f\"battery_acc:{acc[3]}\")\n",
    "print(f\"total_acc:{acc[4]}\")\n",
    "\n",
    "columns = [f\"{i*10}%\" for i in range(1, 1+acc.shape[1])]\n",
    "row_index = ['time_acc', 'weather_acc', 'position_acc', 'battery_acc', 'total_acc']\n",
    "df = pd.DataFrame(data=acc.numpy(),\n",
    "                  index=row_index,\n",
    "                  columns=columns)\n",
    "df.to_csv(\"output.csv\", index=True, header=True)\n",
    "\n"
   ]
  },
  {
   "cell_type": "code",
   "execution_count": null,
   "metadata": {},
   "outputs": [],
   "source": [
    "import json\n",
    "data_path='/public_data/jihai/data/multimodalout/smart_watch_train_120ku_180km.json'\n",
    "data_list=json.load(open(data_path, \"r\"))\n",
    "print(len(data_list))"
   ]
  },
  {
   "cell_type": "code",
   "execution_count": 8,
   "metadata": {},
   "outputs": [
    {
     "name": "stderr",
     "output_type": "stream",
     "text": [
      "2it [00:00, 11.61it/s]"
     ]
    },
    {
     "name": "stdout",
     "output_type": "stream",
     "text": [
      "Can you generate a image of a smart watch, displaying 02:07:00, showing raining weather.\n",
      "Please show a smart watch, on which the current time is 02:49:02, with weather shown in the bottom-right corner.\n"
     ]
    },
    {
     "name": "stderr",
     "output_type": "stream",
     "text": [
      "8it [00:00, 15.56it/s]"
     ]
    },
    {
     "name": "stdout",
     "output_type": "stream",
     "text": [
      "Please show a smart watch, on which the time reads 07:19:04, with 39% battery.\n",
      "Please show a smart watch, on which the current time is 11:09:02, with sunny weather displayed, with battery indicator at top-left.\n"
     ]
    },
    {
     "name": "stderr",
     "output_type": "stream",
     "text": [
      "14it [00:01, 13.10it/s]"
     ]
    },
    {
     "name": "stdout",
     "output_type": "stream",
     "text": [
      "Can you generate a image of a smart watch, showing the time 03:26:19, with sunny weather displayed, with 81% battery, with weather displayed at top-left, with battery indicator at bottom-left.\n",
      "Can you generate a image of a smart watch, showing the time 02:03:35, with weather displayed at bottom-right.\n"
     ]
    },
    {
     "name": "stderr",
     "output_type": "stream",
     "text": [
      "20it [00:01, 17.94it/s]"
     ]
    },
    {
     "name": "stdout",
     "output_type": "stream",
     "text": [
      "Can you generate a image of a smart watch, showing the time 12:13:23, indicating cloudy conditions.\n",
      "Please show a smart watch, on which the current time is 01:47:19, indicating raining conditions, displaying 65% power level.\n"
     ]
    },
    {
     "name": "stderr",
     "output_type": "stream",
     "text": [
      "26it [00:01, 21.61it/s]"
     ]
    },
    {
     "name": "stdout",
     "output_type": "stream",
     "text": [
      "Can you generate a image of a smart watch, displaying 02:43:54, showing 76% charge.\n",
      "Can you generate a image of a smart watch, on which the time reads 01:54:08, with 60% battery, with battery level at bottom-left.\n"
     ]
    },
    {
     "name": "stderr",
     "output_type": "stream",
     "text": [
      "32it [00:01, 23.98it/s]"
     ]
    },
    {
     "name": "stdout",
     "output_type": "stream",
     "text": [
      "Please show a smart watch, on which the time reads 07:13:07, showing cloudy weather, with 76% battery, with weather displayed at bottom-right.\n",
      "Please show a smart watch, displaying 07:45:47, with battery level at bottom-right.\n"
     ]
    },
    {
     "name": "stderr",
     "output_type": "stream",
     "text": [
      "38it [00:01, 25.02it/s]"
     ]
    },
    {
     "name": "stdout",
     "output_type": "stream",
     "text": [
      "Can you generate a image of a smart watch, showing the time 00:26:14, with weather displayed at bottom-left, with battery level at top-right.\n",
      "Can you generate a image of a smart watch, on which the time reads 02:34:41, with 15% battery, with battery level at top-left.\n"
     ]
    },
    {
     "name": "stderr",
     "output_type": "stream",
     "text": [
      "44it [00:02, 25.41it/s]"
     ]
    },
    {
     "name": "stdout",
     "output_type": "stream",
     "text": [
      "Can you generate a image of a smart watch, on which the current time is 06:50:28, with sunny weather displayed.\n",
      "Can you generate a image of a smart watch, showing the time 04:14:01, showing 94% charge, with weather shown in the bottom-left corner.\n"
     ]
    },
    {
     "name": "stderr",
     "output_type": "stream",
     "text": [
      "50it [00:02, 25.92it/s]"
     ]
    },
    {
     "name": "stdout",
     "output_type": "stream",
     "text": [
      "Please show a smart watch, on which the current time is 06:04:28, showing sunny weather, with 31% battery.\n",
      "Can you draw a smart watch, on which the current time is 00:19:07, with raining weather displayed, with battery level at bottom-right.\n"
     ]
    },
    {
     "name": "stderr",
     "output_type": "stream",
     "text": [
      "56it [00:02, 25.88it/s]"
     ]
    },
    {
     "name": "stdout",
     "output_type": "stream",
     "text": [
      "Please show a smart watch, showing the time 07:53:10, indicating sunny conditions, with 18% battery, with battery indicator at bottom-left.\n",
      "Please show a smart watch, showing the time 05:46:31, showing cloudy weather, with weather indicator at top-left, with battery indicator at bottom-left.\n"
     ]
    },
    {
     "name": "stderr",
     "output_type": "stream",
     "text": [
      "62it [00:02, 22.37it/s]"
     ]
    },
    {
     "name": "stdout",
     "output_type": "stream",
     "text": [
      "Please show a smart watch, displaying 04:16:37, displaying 83% power level, with battery indicator at top-left.\n",
      "Please show a smart watch, on which the current time is 12:43:21.\n"
     ]
    },
    {
     "name": "stderr",
     "output_type": "stream",
     "text": [
      "68it [00:03, 24.13it/s]"
     ]
    },
    {
     "name": "stdout",
     "output_type": "stream",
     "text": [
      "Please show a smart watch, displaying 01:01:03, showing raining weather, with weather shown in the top-left corner, power status displayed in bottom-right.\n",
      "Can you draw a smart watch, displaying 03:58:01, with battery level at top-left.\n"
     ]
    },
    {
     "name": "stderr",
     "output_type": "stream",
     "text": [
      "74it [00:03, 25.15it/s]"
     ]
    },
    {
     "name": "stdout",
     "output_type": "stream",
     "text": [
      "Can you generate a image of a smart watch, on which the current time is 09:12:51, power status displayed in bottom-right.\n",
      "Can you generate a image of a smart watch, showing the time 03:48:39, showing raining weather, showing 53% charge, with weather displayed at top-left.\n"
     ]
    },
    {
     "name": "stderr",
     "output_type": "stream",
     "text": [
      "80it [00:03, 25.39it/s]"
     ]
    },
    {
     "name": "stdout",
     "output_type": "stream",
     "text": [
      "Please show a smart watch, on which the current time is 00:57:03.\n",
      "Please show a smart watch, showing the time 05:21:27, indicating cloudy conditions.\n"
     ]
    },
    {
     "name": "stderr",
     "output_type": "stream",
     "text": [
      "86it [00:03, 25.59it/s]"
     ]
    },
    {
     "name": "stdout",
     "output_type": "stream",
     "text": [
      "Please show a smart watch, displaying 04:51:26, displaying 78% power level.\n",
      "Can you draw a smart watch, on which the time reads 09:34:06, showing cloudy weather.\n"
     ]
    },
    {
     "name": "stderr",
     "output_type": "stream",
     "text": [
      "88it [00:04, 21.75it/s]"
     ]
    },
    {
     "name": "stdout",
     "output_type": "stream",
     "text": [
      "time_count:30\n",
      "weather_count:15\n",
      "position_count:22\n",
      "battery_count:13\n"
     ]
    },
    {
     "name": "stderr",
     "output_type": "stream",
     "text": [
      "\n"
     ]
    }
   ],
   "source": [
    "import matplotlib.pyplot as plt\n",
    "import random\n",
    "import os\n",
    "from PIL import Image, ImageDraw, ImageFont,ImageColor\n",
    "\n",
    "# sample=torch.load('/public_data/jihai/understanding/scripts/v1_5/answer/answer-llava-v1.5-7b-siglip-vq-sw-lora-450-image/11.pt')\n",
    "# print(sample.shape)\n",
    "# plt.imshow(sample)\n",
    "\n",
    "gt_image_folder='/public_data/jihai/data/multimodalout/smart_watch_image_test'\n",
    "\n",
    "answer_list=[i*45 for i in range(1,18)]\n",
    "answer=answer_list[-1]\n",
    "#data_path=f'/datadrive_a/jihai/LLaVA/answer/answer-llava-v1.5-7b-mix-u-odd-{i}.jsonl'\n",
    "data_path=f'./answer/answer-llava-v1.5-7b-vq-vq_120ku_180km-2-sw-lora-{answer}.jsonl'\n",
    "count=0\n",
    "time_count=0\n",
    "weather_count=0\n",
    "position_count=0\n",
    "battery_count=0\n",
    "with open (data_path, \"r\") as f:\n",
    "    for line in tqdm(f):\n",
    "        json_obj = json.loads(line.strip())\n",
    "        ground_truth=json_obj['groun_truth']\n",
    "        answer=json_obj['answer']\n",
    "        prompt=json_obj['prompt']\n",
    "        if prompt[0]=='<':\n",
    "            continue\n",
    "        if ':' in prompt:\n",
    "            time_count+=1\n",
    "            # pattern = r\"(\\d{2}):(\\d{2}):(\\d{2})\"\n",
    "            # match = re.search(pattern, prompt)\n",
    "            # gt_h = int(match.group(1))\n",
    "            # gt_m = int(match.group(2))\n",
    "            # gt_s = int(match.group(3))\n",
    "           \n",
    "        if 'sunny' in prompt or 'raining' in prompt or 'cloudy' in prompt:\n",
    "            weather_count+=1\n",
    "            \n",
    "        if '-' in prompt:\n",
    "            position_count+=prompt.count('-')\n",
    "           \n",
    "        if '%' in prompt:\n",
    "            battery_count+=1\n",
    "            match = re.search(r'\\b(100|[1-9]\\d?|0)%', prompt)\n",
    "            gt=int(match.group(1)) / 100\n",
    "            \n",
    "        gt_image_path=os.path.join(gt_image_folder,json_obj['groun_truth_img_tensor'])\n",
    "        gt_image=Image.open(gt_image_path)\n",
    "        gen_image=torch.load(json_obj['output_img_file'])\n",
    "        \n",
    "        # plt.title(prompt)\n",
    "        # plt.imshow(gt_image)\n",
    "        # plt.imshow(gen_image)\n",
    "        fig, axes = plt.subplots(1, 2, figsize=(10, 5))  # figsize 可根据需要调整\n",
    "\n",
    "        # 设置整个图的标题\n",
    "        # fig.suptitle(prompt, fontsize=16)  # 总标题\n",
    "        print(prompt)\n",
    "\n",
    "\n",
    "        # 左边子图：显示 gt_image\n",
    "        axes[0].imshow(gt_image)\n",
    "        axes[0].set_title(\"Ground Truth Image\")  # 子图标题\n",
    "        axes[0].axis('off')  # 关闭坐标轴\n",
    "\n",
    "        # 右边子图：显示 gen_image\n",
    "        axes[1].imshow(gen_image)\n",
    "        axes[1].set_title(\"Generated Image\")  # 子图标题\n",
    "        axes[1].axis('off')  # 关闭坐标轴\n",
    "\n",
    "        # 调整布局以避免重叠\n",
    "        plt.tight_layout(rect=[0, 0, 1, 0.9])  # 为总标题留出空间\n",
    "\n",
    "        # 显示图像\n",
    "        plt.savefig(f'./calculate/{count}.png')\n",
    "        plt.close(fig)\n",
    "        count+=1\n",
    "        if count==30:\n",
    "            break\n",
    "print(f\"time_count:{time_count}\")\n",
    "print(f\"weather_count:{weather_count}\")\n",
    "print(f\"position_count:{position_count}\")\n",
    "print(f\"battery_count:{battery_count}\")"
   ]
  },
  {
   "cell_type": "code",
   "execution_count": null,
   "metadata": {},
   "outputs": [],
   "source": [
    "import re\n",
    "g=\"<s> 00:50:38</s>\"\n",
    "pattern = r\"(\\d{2}):(\\d{2}):(\\d{2})\"\n",
    "match = re.search(pattern, g)\n",
    "print(match.group(1))"
   ]
  },
  {
   "cell_type": "code",
   "execution_count": 18,
   "metadata": {},
   "outputs": [
    {
     "data": {
      "text/plain": [
       "32220"
      ]
     },
     "execution_count": 18,
     "metadata": {},
     "output_type": "execute_result"
    }
   ],
   "source": [
    "12*131*3*45-180000"
   ]
  },
  {
   "cell_type": "code",
   "execution_count": 12,
   "metadata": {},
   "outputs": [
    {
     "data": {
      "text/plain": [
       "0.3333333333333333"
      ]
     },
     "execution_count": 12,
     "metadata": {},
     "output_type": "execute_result"
    }
   ],
   "source": [
    "1/3"
   ]
  },
  {
   "cell_type": "code",
   "execution_count": 13,
   "metadata": {},
   "outputs": [
    {
     "data": {
      "text/plain": [
       "0.25"
      ]
     },
     "execution_count": 13,
     "metadata": {},
     "output_type": "execute_result"
    }
   ],
   "source": [
    "1/(3+1)"
   ]
  },
  {
   "cell_type": "code",
   "execution_count": 14,
   "metadata": {},
   "outputs": [
    {
     "data": {
      "text/plain": [
       "0.2"
      ]
     },
     "execution_count": 14,
     "metadata": {},
     "output_type": "execute_result"
    }
   ],
   "source": [
    "1/(3+2)"
   ]
  },
  {
   "cell_type": "code",
   "execution_count": 15,
   "metadata": {},
   "outputs": [
    {
     "data": {
      "text/plain": [
       "0.5"
      ]
     },
     "execution_count": 15,
     "metadata": {},
     "output_type": "execute_result"
    }
   ],
   "source": [
    "2/(3+1)"
   ]
  },
  {
   "cell_type": "code",
   "execution_count": 16,
   "metadata": {},
   "outputs": [
    {
     "data": {
      "text/plain": [
       "0.42857142857142855"
      ]
     },
     "execution_count": 16,
     "metadata": {},
     "output_type": "execute_result"
    }
   ],
   "source": [
    "1.5/(3+0.5)"
   ]
  },
  {
   "cell_type": "code",
   "execution_count": null,
   "metadata": {},
   "outputs": [],
   "source": []
  }
 ],
 "metadata": {
  "kernelspec": {
   "display_name": "multimodal",
   "language": "python",
   "name": "python3"
  },
  "language_info": {
   "codemirror_mode": {
    "name": "ipython",
    "version": 3
   },
   "file_extension": ".py",
   "mimetype": "text/x-python",
   "name": "python",
   "nbconvert_exporter": "python",
   "pygments_lexer": "ipython3",
   "version": "3.9.21"
  }
 },
 "nbformat": 4,
 "nbformat_minor": 2
}
