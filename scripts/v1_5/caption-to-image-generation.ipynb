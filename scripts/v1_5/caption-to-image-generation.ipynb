{
 "cells": [
  {
   "cell_type": "code",
   "execution_count": null,
   "metadata": {},
   "outputs": [],
   "source": [
    "import random\n",
    "from tqdm import tqdm\n",
    "generation_q=[\n",
    "        \"Can you generate a image of the following:\",\n",
    "        \"Can you draw a image of the following:\",\n",
    "        \"Please show a image of the following:\"]\n",
    "\n",
    "generation_a=[\n",
    "        \"Sure, here is the image. \\n<image>\",\n",
    "        \"The image is shown as you wish. \\n<image>\",\n",
    "        \"The image is generated. \\n<image>\"]\n",
    "generation_data = []\n",
    "count=0\n",
    "list_data_dict = json.load(open('.../share-captioner_coco_lcs_sam_1246k_1107.json', \"r\"))   #set the path to the sharegpt4v caption data here\n",
    "for data_dict in tqdm(list_data_dict):\n",
    "    if 'sam' in data_dict['image']:\n",
    "        continue\n",
    "    caption=data_dict['conversations'][1]['value']\n",
    "    data_dict['conversations'][0]['value']= f\"{random.choice(generation_q)} {caption}\"\n",
    "    data_dict['conversations'][1]['value']= f\"{random.choice(generation_a)}\"\n",
    "    data_dict['task']='generation'\n",
    "    data_dict['image'] = f\".../ShareGPT4V/{data_dict['image']}\" #set the path to the sharegpt4v image data here\n",
    "    generation_data.append(data_dict)\n",
    "    count+=1\n",
    "    if count>=350000:\n",
    "        print('reach 350k')\n",
    "        break\n",
    "\n",
    "# save the transferred text-to-image generation data\n",
    "with open('./share-captioner_coco_lcs_350k_generation.json', \"w\") as f:\n",
    "    json.dump(generation_data, f, indent=2, ensure_ascii=False)\n",
    "\n",
    "# append the generation data to the original llava-1.5 pre-training stage data\n",
    "import json\n",
    "list_data_dict1 = json.load(open('.../share-captioner_coco_lcs_350k_generation.json', \"r\"))\n",
    "print(len(list_data_dict1))\n",
    "list_data_dict2=json.load(open('.../blip_laion_cc_sbu_558k.json','r'))\n",
    "list_data_dict=list_data_dict1[:150000]+list_data_dict2\n",
    "print(len(list_data_dict))\n",
    "with open('.../blip_laion_cc_sbu_558k_with_generation.json', \"w\") as f:\n",
    "    json.dump(list_data_dict, f, indent=2, ensure_ascii=False)\n",
    "\n",
    "\n",
    "# append the generation data to the original llava-1.5 instruction-tuning stage data\n",
    "import json\n",
    "list_data_dict1 = json.load(open('.../share-captioner_coco_lcs_350k_generation.json', \"r\"))\n",
    "list_data_dict2=json.load(open('.../llava_v1_5_mix665k.json','r'))\n",
    "list_data_dict=list_data_dict1[150000:]+list_data_dict2\n",
    "print(len(list_data_dict))\n",
    "with open('.../llava_v1_5_mix665k_with_generation.json', \"w\") as f:\n",
    "    json.dump(list_data_dict, f, indent=2, ensure_ascii=False)\n"
   ]
  }
 ],
 "metadata": {
  "kernelspec": {
   "display_name": "multimodal",
   "language": "python",
   "name": "python3"
  },
  "language_info": {
   "codemirror_mode": {
    "name": "ipython",
    "version": 3
   },
   "file_extension": ".py",
   "mimetype": "text/x-python",
   "name": "python",
   "nbconvert_exporter": "python",
   "pygments_lexer": "ipython3",
   "version": "3.9.21"
  }
 },
 "nbformat": 4,
 "nbformat_minor": 2
}
