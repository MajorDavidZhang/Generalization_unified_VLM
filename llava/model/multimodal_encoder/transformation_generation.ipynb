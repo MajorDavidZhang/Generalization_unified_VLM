{
 "cells": [
  {
   "cell_type": "code",
   "execution_count": 1,
   "metadata": {},
   "outputs": [],
   "source": [
    "import torch\n",
    "import torch.nn as nn\n",
    "\n",
    "# random_matrix = torch.randn(7, 7)\n",
    "# # QR 分解得到正交矩阵 Q\n",
    "# Q, _ = torch.linalg.qr(random_matrix, mode='complete')\n",
    "# print(Q)\n",
    "Q=torch.eye(7)\n",
    "torch.save(Q, 'identity_matrix.pt')"
   ]
  },
  {
   "cell_type": "code",
   "execution_count": 8,
   "metadata": {},
   "outputs": [
    {
     "name": "stdout",
     "output_type": "stream",
     "text": [
      "Random scale matrix: tensor([[1.8575, 0.0000, 0.0000, 0.0000, 0.0000, 0.0000, 0.0000],\n",
      "        [0.0000, 1.2748, 0.0000, 0.0000, 0.0000, 0.0000, 0.0000],\n",
      "        [0.0000, 0.0000, 1.0942, 0.0000, 0.0000, 0.0000, 0.0000],\n",
      "        [0.0000, 0.0000, 0.0000, 0.9125, 0.0000, 0.0000, 0.0000],\n",
      "        [0.0000, 0.0000, 0.0000, 0.0000, 1.3832, 0.0000, 0.0000],\n",
      "        [0.0000, 0.0000, 0.0000, 0.0000, 0.0000, 0.6908, 0.0000],\n",
      "        [0.0000, 0.0000, 0.0000, 0.0000, 0.0000, 0.0000, 1.0347]])\n"
     ]
    }
   ],
   "source": [
    "# import torch\n",
    "# #print(torch.rand(7))\n",
    "# # 设置缩放因子范围（可以根据需要调整）\n",
    "# scale_min, scale_max = 0.5, 2.0\n",
    "\n",
    "# # 生成两个随机缩放因子\n",
    "# scale_factors = torch.rand(7) * (scale_max - scale_min) + scale_min  # 范围 [scale_min, scale_max]\n",
    "\n",
    "# # 创建一个对角矩阵，缩放因子在对角线上\n",
    "# scale_matrix = torch.diag(scale_factors)\n",
    "\n",
    "# print(\"Random scale matrix:\", scale_matrix)\n",
    "# torch.save(scale_matrix, 'scale_matrix.pt')"
   ]
  },
  {
   "cell_type": "code",
   "execution_count": 2,
   "metadata": {},
   "outputs": [],
   "source": [
    "import torch\n",
    "import torch.nn as nn\n",
    "\n",
    "class Affine(nn.Module):\n",
    "    def __init__(self, dim):\n",
    "        super(Affine, self).__init__()\n",
    "        \n",
    "        # 生成随机正交矩阵 A（使用 QR 分解）\n",
    "        #random_matrix = torch.randn(dim, dim)\n",
    "        # QR 分解得到正交矩阵 Q\n",
    "        #Q, _ = torch.linalg.qr(random_matrix, mode='complete')  # 使用 torch.linalg.qr\n",
    "        Q= torch.load('identity_matrix.pt')\n",
    "        S=torch.load('identity_matrix.pt')\n",
    "        Q=torch.matmul(Q,S)\n",
    "        # 将 A 和 b 作为常量属性存储，并确保它们不会被训练\n",
    "        self.register_buffer('A', Q)  # register_buffer 确保 A 不可训练\n",
    "        self.register_buffer('b', torch.zeros(dim))  # 随机平移向量 b，不可训练\n",
    "\n",
    "    def forward(self, x, *args, **kwargs):\n",
    "        # 仿射变换 y = A * x + b\n",
    "        x=x.view(-1, self.A.shape[1])\n",
    "        y=torch.matmul(x,self.A) + self.b\n",
    "        y=y.view(-1, 6, self.A.shape[0])\n",
    "        return y"
   ]
  },
  {
   "cell_type": "code",
   "execution_count": 3,
   "metadata": {},
   "outputs": [],
   "source": [
    "transformation= Affine(7)\n",
    "\n",
    "torch.save(transformation.state_dict(), 'plain.pth')"
   ]
  },
  {
   "cell_type": "code",
   "execution_count": 15,
   "metadata": {},
   "outputs": [
    {
     "name": "stdout",
     "output_type": "stream",
     "text": [
      "torch.Size([64, 6, 7])\n"
     ]
    }
   ],
   "source": [
    "transformation= Affine(7)\n",
    "a=torch.randn(64,6,7)\n",
    "b=transformation(a)\n",
    "print(b.shape)"
   ]
  },
  {
   "cell_type": "code",
   "execution_count": 5,
   "metadata": {},
   "outputs": [
    {
     "data": {
      "text/plain": [
       "<All keys matched successfully>"
      ]
     },
     "execution_count": 5,
     "metadata": {},
     "output_type": "execute_result"
    }
   ],
   "source": [
    "state=torch.load('affine.pth')\n",
    "transformation.load_state_dict(state)"
   ]
  },
  {
   "cell_type": "code",
   "execution_count": null,
   "metadata": {},
   "outputs": [],
   "source": []
  }
 ],
 "metadata": {
  "kernelspec": {
   "display_name": "llava",
   "language": "python",
   "name": "python3"
  },
  "language_info": {
   "codemirror_mode": {
    "name": "ipython",
    "version": 3
   },
   "file_extension": ".py",
   "mimetype": "text/x-python",
   "name": "python",
   "nbconvert_exporter": "python",
   "pygments_lexer": "ipython3",
   "version": "3.10.14"
  }
 },
 "nbformat": 4,
 "nbformat_minor": 2
}
