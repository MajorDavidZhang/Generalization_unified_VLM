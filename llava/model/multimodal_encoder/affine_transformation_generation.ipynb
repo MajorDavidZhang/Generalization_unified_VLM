{
 "cells": [
  {
   "cell_type": "code",
   "execution_count": null,
   "metadata": {},
   "outputs": [],
   "source": [
    "from transformers import SiglipImageProcessor, SiglipVisionModel,SiglipVisionConfig\n",
    "from PIL import Image\n"
   ]
  },
  {
   "cell_type": "code",
   "execution_count": null,
   "metadata": {},
   "outputs": [],
   "source": [
    "import torch\n",
    "import torch.nn as nn\n",
    "torch.manual_seed(42)\n",
    "strength=0.3\n",
    "\n",
    "vision_tower_hidden_dim=8\n",
    "vision_tower_name='vq'\n",
    "\n",
    "# 设置缩放因子范围（可以根据需要调整）\n",
    "scale_min, scale_max = 1+strength, 1-strength\n",
    "shear_std=1*strength\n",
    "# 生成两个随机缩放因子\n",
    "scale_factors = torch.rand(vision_tower_hidden_dim) * (scale_max - scale_min) + scale_min  # 范围 [scale_min, scale_max]\n",
    "# 创建一个对角矩阵，缩放因子在对角线上\n",
    "scale_matrix = torch.diag(scale_factors)\n",
    "#shear = torch.eye(vision_tower_hidden_dim)\n",
    "# 生成上三角部分的随机值（非对角线元素）\n",
    "# upper_triangle = torch.triu(\n",
    "#     torch.rand(vision_tower_hidden_dim, vision_tower_hidden_dim) * shear_std,\n",
    "#     diagonal=1  # 仅填充严格上三角部分\n",
    "# )\n",
    "# shear = shear + upper_triangle\n",
    "\n",
    "# 3. 组合缩放和剪切（顺序：先缩放，后剪切）\n",
    "#scale_matrix = shear @ scale_matrix\n",
    "torch.save(scale_matrix, f\"{vision_tower_name}_{strength}_scale_matrix.pt\")\n",
    "\n",
    "random_matrix = torch.rand(vision_tower_hidden_dim, vision_tower_hidden_dim)\n",
    "# QR 分解得到正交矩阵 Q\n",
    "rotation_matrix, _ = torch.linalg.qr(random_matrix, mode='complete')\n",
    "torch.save(rotation_matrix, f\"{vision_tower_name}_{strength}_rotation_matrix.pt\")\n",
    "\n",
    "translation_matrix=torch.rand(vision_tower_hidden_dim) * (scale_max - scale_min) + scale_min-1\n",
    "torch.save(translation_matrix, f\"{vision_tower_name}_{strength}_translation_matrix.pt\")\n",
    "\n"
   ]
  },
  {
   "cell_type": "code",
   "execution_count": null,
   "metadata": {},
   "outputs": [],
   "source": [
    "import torch\n",
    "import torch.nn as nn\n",
    "torch.manual_seed(42)\n",
    "\n",
    "\n",
    "class Affine(nn.Module):\n",
    "    def __init__(self, dim,strength,vision_tower_name):\n",
    "        super(Affine, self).__init__()\n",
    "        \n",
    "        Q= torch.load(f\"{vision_tower_name}_{strength}_rotation_matrix.pt\")\n",
    "        S=torch.load(f\"{vision_tower_name}_{strength}_scale_matrix.pt\")\n",
    "        Q=torch.matmul(Q,S)\n",
    "        B=torch.load(f\"{vision_tower_name}_{strength}_translation_matrix.pt\")\n",
    "        # 将 A 和 b 作为常量属性存储，并确保它们不会被训练\n",
    "        self.register_buffer('A', Q)  # register_buffer 确保 A 不可训练\n",
    "        self.register_buffer('b', B)  # 随机平移向量 b，不可训练\n",
    "\n",
    "    def forward(self, x, *args, **kwargs):\n",
    "        pass"
   ]
  },
  {
   "cell_type": "code",
   "execution_count": null,
   "metadata": {},
   "outputs": [],
   "source": [
    "\n",
    "transformation= Affine(vision_tower_hidden_dim, strength, vision_tower_name)\n",
    "\n",
    "torch.save(transformation.state_dict(), f\"{vision_tower_name}affine_{strength}.pth\")"
   ]
  }
 ],
 "metadata": {
  "kernelspec": {
   "display_name": "multimodal",
   "language": "python",
   "name": "python3"
  },
  "language_info": {
   "codemirror_mode": {
    "name": "ipython",
    "version": 3
   },
   "file_extension": ".py",
   "mimetype": "text/x-python",
   "name": "python",
   "nbconvert_exporter": "python",
   "pygments_lexer": "ipython3",
   "version": "3.9.21"
  }
 },
 "nbformat": 4,
 "nbformat_minor": 2
}
