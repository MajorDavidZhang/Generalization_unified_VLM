{
 "cells": [
  {
   "cell_type": "code",
   "execution_count": 1,
   "metadata": {},
   "outputs": [
    {
     "name": "stderr",
     "output_type": "stream",
     "text": [
      "/datadrive_a/jihai/miniconda3/envs/llava/lib/python3.10/site-packages/tqdm/auto.py:21: TqdmWarning: IProgress not found. Please update jupyter and ipywidgets. See https://ipywidgets.readthedocs.io/en/stable/user_install.html\n",
      "  from .autonotebook import tqdm as notebook_tqdm\n"
     ]
    },
    {
     "name": "stdout",
     "output_type": "stream",
     "text": [
      "[2025-03-10 05:37:44,998] [INFO] [real_accelerator.py:161:get_accelerator] Setting ds_accelerator to cuda (auto detect)\n"
     ]
    }
   ],
   "source": [
    "import argparse\n",
    "import torch\n",
    "import os\n",
    "import json\n",
    "from tqdm import tqdm\n",
    "import shortuuid\n",
    "\n",
    "from llava.constants import IMAGE_TOKEN_INDEX, DEFAULT_IMAGE_TOKEN, DEFAULT_IM_START_TOKEN, DEFAULT_IM_END_TOKEN\n",
    "from llava.conversation import conv_templates, SeparatorStyle\n",
    "from llava.model.builder import load_pretrained_model\n",
    "from llava.utils import disable_torch_init\n",
    "from llava.mm_utils import tokenizer_image_token, process_images, get_model_name_from_path\n",
    "from torch.utils.data import Dataset, DataLoader\n",
    "import math\n",
    "\n",
    "\n",
    "def split_list(lst, n):\n",
    "    \"\"\"Split a list into n (roughly) equal-sized chunks\"\"\"\n",
    "    chunk_size = math.ceil(len(lst) / n)  # integer division\n",
    "    return [lst[i:i+chunk_size] for i in range(0, len(lst), chunk_size)]\n",
    "\n",
    "\n",
    "def get_chunk(lst, n, k):\n",
    "    chunks = split_list(lst, n)\n",
    "    return chunks[k]\n",
    "\n",
    "\n",
    "# Custom dataset class\n",
    "class CustomDataset(Dataset):\n",
    "    def __init__(self, data_path, tokenizer, model_config):\n",
    "        self.list_data_dict = json.load(open(data_path, \"r\"))\n",
    "        self.tokenizer = tokenizer\n",
    "        self.model_config = model_config\n",
    "\n",
    "    def __getitem__(self, index):\n",
    "        sources = self.list_data_dict[index]\n",
    "        qs = sources[\"conversations\"][0][\"value\"]\n",
    "        # if self.model_config.mm_use_im_start_end:\n",
    "        #     qs = DEFAULT_IM_START_TOKEN + DEFAULT_IMAGE_TOKEN + DEFAULT_IM_END_TOKEN + '\\n' + qs\n",
    "        # else:\n",
    "        #     qs = DEFAULT_IMAGE_TOKEN + '\\n' + qs\n",
    "\n",
    "        conv = conv_templates[args.conv_mode].copy()\n",
    "        conv.append_message(conv.roles[0], qs)\n",
    "        conv.append_message(conv.roles[1], None)\n",
    "        prompt = conv.get_prompt()\n",
    "        #print(prompt)\n",
    "        image_tensor=torch.Tensor(sources['tensor'])\n",
    "        input_ids = tokenizer_image_token(prompt, self.tokenizer, IMAGE_TOKEN_INDEX, return_tensors='pt')\n",
    "\n",
    "        return input_ids, image_tensor\n",
    "\n",
    "    def __len__(self):\n",
    "        return len(self.list_data_dict)\n",
    "\n",
    "\n",
    "def collate_fn(batch):\n",
    "    input_ids, image_tensors = zip(*batch)\n",
    "    input_ids = torch.stack(input_ids, dim=0)\n",
    "    image_tensors = torch.stack(image_tensors, dim=0)\n",
    "    return input_ids, image_tensors\n",
    "\n",
    "\n",
    "# DataLoader\n",
    "def create_data_loader(data_path, tokenizer, model_config, batch_size=1, num_workers=4):\n",
    "    assert batch_size == 1, \"batch_size must be 1\"\n",
    "    dataset = CustomDataset(data_path, tokenizer, model_config)\n",
    "    data_loader = DataLoader(dataset, batch_size=batch_size, num_workers=num_workers, shuffle=False, collate_fn=collate_fn)\n",
    "    return data_loader\n",
    "\n",
    "\n",
    "# def eval_model(args):\n",
    "#     # Model\n",
    "#     disable_torch_init()\n",
    "#     model_path = os.path.expanduser(args.model_path)\n",
    "#     model_name = get_model_name_from_path(model_path)\n",
    "#     tokenizer, model, image_processor, context_len = load_pretrained_model(model_path, args.model_base, model_name)\n",
    "\n",
    "#     answers_file = os.path.expanduser(args.answers_file)\n",
    "#     os.makedirs(os.path.dirname(answers_file), exist_ok=True)\n",
    "#     ans_file = open(answers_file, \"w\")\n",
    "\n",
    "#     if 'plain' in model_name and 'finetune' not in model_name.lower() and 'mmtag' not in args.conv_mode:\n",
    "#         args.conv_mode = args.conv_mode + '_mmtag'\n",
    "#         print(f'It seems that this is a plain model, but it is not using a mmtag prompt, auto switching to {args.conv_mode}.')\n",
    "\n",
    "#     data_loader = create_data_loader(args.data_path, tokenizer, model.config)\n",
    "#     list_data_dict = json.load(open(args.data_path, \"r\"))\n",
    "#     for (input_ids, image_tensor), line in tqdm(zip(data_loader, list_data_dict), total=len(list_data_dict)):\n",
    "#         cur_prompt = line[\"conversations\"][0][\"value\"]\n",
    "#         groun_truth=line[\"conversations\"][1][\"value\"]\n",
    "#         groun_truth_img_tensor=line[\"tensor\"]\n",
    "#         input_ids = input_ids.to(device='cuda', non_blocking=True)\n",
    "\n",
    "#         with torch.inference_mode():\n",
    "#             outputs = model.generate(\n",
    "#                 input_ids,\n",
    "#                 images=image_tensor.to(dtype=torch.float16, device='cuda', non_blocking=True),\n",
    "#                 do_sample=True if args.temperature > 0 else False,\n",
    "#                 temperature=args.temperature,\n",
    "#                 top_p=args.top_p,\n",
    "#                 num_beams=args.num_beams,\n",
    "#                 max_new_tokens=args.max_new_tokens,\n",
    "#                 use_cache=True)\n",
    "#         output_ids=outputs['generated_tokens']\n",
    "#         hiddens=outputs['hidden_states']\n",
    "\n",
    "#         outputs = tokenizer.batch_decode(output_ids, skip_special_tokens=True)[0].strip()\n",
    "\n",
    "#         ans_id = shortuuid.uuid()\n",
    "#         ans_file.write(json.dumps({\"prompt\": cur_prompt,\n",
    "#                                    \"groun_truth\": groun_truth,\n",
    "#                                     \"groun_truth_img_tensor\": groun_truth_img_tensor,\n",
    "#                                    \"answer\": outputs,\n",
    "#                                    \"answer_id\": ans_id,\n",
    "#                                    \"model_id\": model_name,\n",
    "#                                    \"metadata\": {}}) + \"\\n\")\n",
    "#         # ans_file.flush()\n",
    "#     ans_file.close()\n",
    "\n",
    "# if __name__ == \"__main__\":\n",
    "#     parser = argparse.ArgumentParser()\n",
    "#     parser.add_argument(\"--model-path\", type=str, default=\"facebook/opt-350m\")\n",
    "#     parser.add_argument(\"--model-base\", type=str, default=None)\n",
    "#     parser.add_argument(\"--data-path\", type=str, default=\"tables/question.jsonl\")\n",
    "#     parser.add_argument(\"--answers-file\", type=str, default=\"answer.jsonl\")\n",
    "#     parser.add_argument(\"--conv-mode\", type=str, default=\"llava_v1\")\n",
    "#     parser.add_argument(\"--num-chunks\", type=int, default=1)\n",
    "#     parser.add_argument(\"--chunk-idx\", type=int, default=0)\n",
    "#     parser.add_argument(\"--temperature\", type=float, default=0.2)\n",
    "#     parser.add_argument(\"--top_p\", type=float, default=None)\n",
    "#     parser.add_argument(\"--num_beams\", type=int, default=1)\n",
    "#     parser.add_argument(\"--max_new_tokens\", type=int, default=128)\n",
    "#     args = parser.parse_args()\n",
    "\n",
    "#     eval_model(args)\n",
    "\n",
    "def generate_image(input_ids,model):\n",
    "    output_img=[]\n",
    "    inputs_embeds=model.get_model().embed_tokens(input_ids) #1, seq_le, 4096\n",
    "    with torch.inference_mode():\n",
    "        for i in range(6):\n",
    "            outputs = model.model(\n",
    "                input_ids=None,\n",
    "                attention_mask=None,\n",
    "                position_ids=None,\n",
    "                past_key_values=None,\n",
    "                inputs_embeds=inputs_embeds,\n",
    "            )\n",
    "            hidden_states = outputs[0]\n",
    "            img = model.get_model().mm_projector_head(hidden_states[:,-1,:])\n",
    "            output_img.append(img)\n",
    "            if model.get_model().mm_projector_gen is not None:\n",
    "                new_embed=model.get_model().mm_projector_gen(img)\n",
    "            else:\n",
    "                new_embed=model.get_model().mm_projector_un(img)\n",
    "            new_embed=new_embed.unsqueeze(1).to(inputs_embeds.device)\n",
    "            inputs_embeds=torch.cat([inputs_embeds,new_embed],dim=1)\n",
    "            \n",
    "    return output_img"
   ]
  },
  {
   "cell_type": "code",
   "execution_count": 4,
   "metadata": {},
   "outputs": [
    {
     "name": "stdout",
     "output_type": "stream",
     "text": [
      "/datadrive_a/jihai/LLaVA/scripts/v1_5/checkpoints/llava-v1.5-7b-affine2-lora/checkpoint-78\n",
      "/datadrive_a/jihai/LLaVA/scripts/v1_5/checkpoints/llava-v1.5-7b-affine2-lora/checkpoint-78\n",
      "Loading LLaVA from base model...\n"
     ]
    },
    {
     "name": "stderr",
     "output_type": "stream",
     "text": [
      "Loading checkpoint shards: 100%|██████████| 2/2 [00:08<00:00,  4.39s/it]\n",
      "Some weights of LlavaLlamaForCausalLM_ImgGen were not initialized from the model checkpoint at /datadrive_a/tmp/vicuna-7b-v1.5/vicuna-7b-v1.5 and are newly initialized: ['model.mm_projector_gen.bias', 'model.mm_projector_gen.weight', 'model.mm_projector_head.bias', 'model.mm_projector_head.weight', 'model.mm_projector_un.bias', 'model.mm_projector_un.weight']\n",
      "You should probably TRAIN this model on a down-stream task to be able to use it for predictions and inference.\n"
     ]
    },
    {
     "name": "stdout",
     "output_type": "stream",
     "text": [
      "Loading additional LLaVA weights...\n",
      "Loading LoRA weights...\n",
      "Merging LoRA weights...\n",
      "Model is loaded...\n"
     ]
    },
    {
     "name": "stderr",
     "output_type": "stream",
     "text": [
      "100%|██████████| 200/200 [03:16<00:00,  1.02it/s]\n"
     ]
    },
    {
     "name": "stdout",
     "output_type": "stream",
     "text": [
      "<_io.TextIOWrapper name='./answer/answer-llava-v1.5-7b-affine2-lora-0.jsonl' mode='w' encoding='UTF-8'>\n",
      "/datadrive_a/jihai/LLaVA/scripts/v1_5/checkpoints/llava-v1.5-7b-affine2-lora/checkpoint-156\n",
      "/datadrive_a/jihai/LLaVA/scripts/v1_5/checkpoints/llava-v1.5-7b-affine2-lora/checkpoint-156\n",
      "Loading LLaVA from base model...\n"
     ]
    },
    {
     "name": "stderr",
     "output_type": "stream",
     "text": [
      "Loading checkpoint shards: 100%|██████████| 2/2 [00:08<00:00,  4.43s/it]\n",
      "Some weights of LlavaLlamaForCausalLM_ImgGen were not initialized from the model checkpoint at /datadrive_a/tmp/vicuna-7b-v1.5/vicuna-7b-v1.5 and are newly initialized: ['model.mm_projector_gen.bias', 'model.mm_projector_gen.weight', 'model.mm_projector_head.bias', 'model.mm_projector_head.weight', 'model.mm_projector_un.bias', 'model.mm_projector_un.weight']\n",
      "You should probably TRAIN this model on a down-stream task to be able to use it for predictions and inference.\n"
     ]
    },
    {
     "name": "stdout",
     "output_type": "stream",
     "text": [
      "Loading additional LLaVA weights...\n",
      "Loading LoRA weights...\n",
      "Merging LoRA weights...\n",
      "Model is loaded...\n"
     ]
    },
    {
     "name": "stderr",
     "output_type": "stream",
     "text": [
      "100%|██████████| 200/200 [03:19<00:00,  1.00it/s]\n"
     ]
    },
    {
     "name": "stdout",
     "output_type": "stream",
     "text": [
      "<_io.TextIOWrapper name='./answer/answer-llava-v1.5-7b-affine2-lora-1.jsonl' mode='w' encoding='UTF-8'>\n",
      "/datadrive_a/jihai/LLaVA/scripts/v1_5/checkpoints/llava-v1.5-7b-affine2-lora/checkpoint-234\n",
      "/datadrive_a/jihai/LLaVA/scripts/v1_5/checkpoints/llava-v1.5-7b-affine2-lora/checkpoint-234\n",
      "Loading LLaVA from base model...\n"
     ]
    },
    {
     "name": "stderr",
     "output_type": "stream",
     "text": [
      "Loading checkpoint shards: 100%|██████████| 2/2 [00:08<00:00,  4.37s/it]\n",
      "Some weights of LlavaLlamaForCausalLM_ImgGen were not initialized from the model checkpoint at /datadrive_a/tmp/vicuna-7b-v1.5/vicuna-7b-v1.5 and are newly initialized: ['model.mm_projector_gen.bias', 'model.mm_projector_gen.weight', 'model.mm_projector_head.bias', 'model.mm_projector_head.weight', 'model.mm_projector_un.bias', 'model.mm_projector_un.weight']\n",
      "You should probably TRAIN this model on a down-stream task to be able to use it for predictions and inference.\n"
     ]
    },
    {
     "name": "stdout",
     "output_type": "stream",
     "text": [
      "Loading additional LLaVA weights...\n",
      "Loading LoRA weights...\n",
      "Merging LoRA weights...\n",
      "Model is loaded...\n"
     ]
    },
    {
     "name": "stderr",
     "output_type": "stream",
     "text": [
      "100%|██████████| 200/200 [03:17<00:00,  1.01it/s]\n"
     ]
    },
    {
     "name": "stdout",
     "output_type": "stream",
     "text": [
      "<_io.TextIOWrapper name='./answer/answer-llava-v1.5-7b-affine2-lora-2.jsonl' mode='w' encoding='UTF-8'>\n",
      "/datadrive_a/jihai/LLaVA/scripts/v1_5/checkpoints/llava-v1.5-7b-affine2-lora/checkpoint-312\n",
      "/datadrive_a/jihai/LLaVA/scripts/v1_5/checkpoints/llava-v1.5-7b-affine2-lora/checkpoint-312\n",
      "Loading LLaVA from base model...\n"
     ]
    },
    {
     "name": "stderr",
     "output_type": "stream",
     "text": [
      "Loading checkpoint shards: 100%|██████████| 2/2 [00:08<00:00,  4.40s/it]\n",
      "Some weights of LlavaLlamaForCausalLM_ImgGen were not initialized from the model checkpoint at /datadrive_a/tmp/vicuna-7b-v1.5/vicuna-7b-v1.5 and are newly initialized: ['model.mm_projector_gen.bias', 'model.mm_projector_gen.weight', 'model.mm_projector_head.bias', 'model.mm_projector_head.weight', 'model.mm_projector_un.bias', 'model.mm_projector_un.weight']\n",
      "You should probably TRAIN this model on a down-stream task to be able to use it for predictions and inference.\n"
     ]
    },
    {
     "name": "stdout",
     "output_type": "stream",
     "text": [
      "Loading additional LLaVA weights...\n",
      "Loading LoRA weights...\n",
      "Merging LoRA weights...\n",
      "Model is loaded...\n"
     ]
    },
    {
     "name": "stderr",
     "output_type": "stream",
     "text": [
      "100%|██████████| 200/200 [03:19<00:00,  1.00it/s]\n"
     ]
    },
    {
     "name": "stdout",
     "output_type": "stream",
     "text": [
      "<_io.TextIOWrapper name='./answer/answer-llava-v1.5-7b-affine2-lora-3.jsonl' mode='w' encoding='UTF-8'>\n",
      "/datadrive_a/jihai/LLaVA/scripts/v1_5/checkpoints/llava-v1.5-7b-affine2-lora/checkpoint-390\n",
      "/datadrive_a/jihai/LLaVA/scripts/v1_5/checkpoints/llava-v1.5-7b-affine2-lora/checkpoint-390\n",
      "Loading LLaVA from base model...\n"
     ]
    },
    {
     "name": "stderr",
     "output_type": "stream",
     "text": [
      "Loading checkpoint shards: 100%|██████████| 2/2 [00:08<00:00,  4.40s/it]\n",
      "Some weights of LlavaLlamaForCausalLM_ImgGen were not initialized from the model checkpoint at /datadrive_a/tmp/vicuna-7b-v1.5/vicuna-7b-v1.5 and are newly initialized: ['model.mm_projector_gen.bias', 'model.mm_projector_gen.weight', 'model.mm_projector_head.bias', 'model.mm_projector_head.weight', 'model.mm_projector_un.bias', 'model.mm_projector_un.weight']\n",
      "You should probably TRAIN this model on a down-stream task to be able to use it for predictions and inference.\n"
     ]
    },
    {
     "name": "stdout",
     "output_type": "stream",
     "text": [
      "Loading additional LLaVA weights...\n",
      "Loading LoRA weights...\n",
      "Merging LoRA weights...\n",
      "Model is loaded...\n"
     ]
    },
    {
     "name": "stderr",
     "output_type": "stream",
     "text": [
      "100%|██████████| 200/200 [03:20<00:00,  1.00s/it]"
     ]
    },
    {
     "name": "stdout",
     "output_type": "stream",
     "text": [
      "<_io.TextIOWrapper name='./answer/answer-llava-v1.5-7b-affine2-lora-4.jsonl' mode='w' encoding='UTF-8'>\n"
     ]
    },
    {
     "name": "stderr",
     "output_type": "stream",
     "text": [
      "\n"
     ]
    }
   ],
   "source": [
    "#load trained model\n",
    "ckp_list=[78,156,234,312,390]\n",
    "model_name='llava-v1.5-7b-affine2-lora'\n",
    "model_list=[f'/datadrive_a/jihai/LLaVA/scripts/v1_5/checkpoints/{model_name}/checkpoint-{i}' for i in ckp_list]\n",
    "for k in range(len(model_list)):\n",
    "    args = type('Args', (), {\n",
    "        \"model_path\": model_list[k],\n",
    "        \"model_base\": '/datadrive_a/tmp/vicuna-7b-v1.5/vicuna-7b-v1.5',\n",
    "        \"data_path\": '/datadrive_a/jihai/data/multimodalout/dummy_data_u_even_eval.json',\n",
    "        \"answers_file\": f\"./answer/answer-{model_name}-{k}.jsonl\",\n",
    "        \"conv_mode\": \"llava_v1\",\n",
    "        \"num_chunks\": 1,\n",
    "        \"chunk_idx\": 0,\n",
    "        \"temperature\": 0,\n",
    "        \"top_p\": None,\n",
    "        \"num_beams\": 1,\n",
    "        \"max_new_tokens\": 128\n",
    "    })()\n",
    "    print(args.model_path)\n",
    "    disable_torch_init()\n",
    "    model_path = os.path.expanduser(args.model_path)\n",
    "    print(model_path)\n",
    "    model_type = get_model_name_from_path(model_path)\n",
    "    tokenizer, model, image_processor,image_processor_gen, context_len = load_pretrained_model(model_path, args.model_base, model_name)\n",
    "\n",
    "\n",
    "\n",
    "    answers_file = args.answers_file\n",
    "    os.makedirs(os.path.dirname(answers_file), exist_ok=True)\n",
    "    ans_file = open(answers_file, \"w\")\n",
    "    if 'plain' in model_type and 'finetune' not in model_type.lower() and 'mmtag' not in args.conv_mode:\n",
    "        args.conv_mode = args.conv_mode + '_mmtag'\n",
    "        print(f'It seems that this is a plain model, but it is not using a mmtag prompt, auto switching to {args.conv_mode}.')\n",
    "\n",
    "    data_loader = create_data_loader(args.data_path, tokenizer, model.config)\n",
    "    list_data_dict = json.load(open(args.data_path, \"r\"))\n",
    "\n",
    "\n",
    "    count=0\n",
    "    for (input_ids, image_tensor), line in tqdm(zip(data_loader, list_data_dict), total=len(list_data_dict)):\n",
    "        count+=1\n",
    "        if count==500: break\n",
    "    \n",
    "        cur_prompt = line[\"conversations\"][0][\"value\"]\n",
    "        groun_truth=line[\"conversations\"][1][\"value\"]\n",
    "        groun_truth_img_tensor=line[\"tensor\"]\n",
    "        input_ids = input_ids.to(device='cuda', non_blocking=True)\n",
    "        image_tensor=image_tensor.to(dtype=torch.float16, device='cuda', non_blocking=True)\n",
    "        with torch.inference_mode():\n",
    "            outputs = model.generate(\n",
    "                input_ids,\n",
    "                images=image_tensor,\n",
    "                do_sample=True if args.temperature > 0 else False,\n",
    "                temperature=args.temperature,\n",
    "                top_p=args.top_p,\n",
    "                num_beams=args.num_beams,\n",
    "                max_new_tokens=args.max_new_tokens,\n",
    "                use_cache=True)\n",
    "        output_ids=outputs['generated_tokens']\n",
    "        outputs = tokenizer.batch_decode(output_ids, skip_special_tokens=False)[0].strip()\n",
    "        #print(outputs)\n",
    "\n",
    "        img_indicator = torch.tensor([529,  3027, 29958])\n",
    "        id_seq = output_ids[0].cpu()\n",
    "\n",
    "        # 子序列长度\n",
    "        sub_seq_len = len(img_indicator)\n",
    "\n",
    "        # 滑动窗口查找子序列\n",
    "        start_idx = -1\n",
    "        for i in range(id_seq.size(0) - sub_seq_len + 1):\n",
    "            if torch.equal(id_seq[i:i + sub_seq_len], img_indicator):\n",
    "                start_idx = i\n",
    "                break\n",
    "        img=None\n",
    "        if start_idx != -1:\n",
    "            output_ids=output_ids[:,1:start_idx+3]\n",
    "            input_ids=torch.cat((input_ids, output_ids), dim=1)\n",
    "            img=generate_image(input_ids,model)\n",
    "            img=torch.stack(img,dim=0).squeeze().cpu().tolist()\n",
    "        ans_file.write(json.dumps({\"prompt\": cur_prompt,\n",
    "                                    \"groun_truth\": groun_truth,\n",
    "                                    \"answer\": outputs,\n",
    "                                    \"groun_truth_img_tensor\": groun_truth_img_tensor,\n",
    "                                    \"output_img_tensor\": img,\n",
    "                                    \"model_id\": model_name,\n",
    "                                    \"metadata\": {}}) + \"\\n\")\n",
    "        #outputs = tokenizer.batch_decode(input_ids, skip_special_tokens=False)[0].strip()\n",
    "    \n",
    "    print(ans_file)\n",
    "    ans_file.close() \n"
   ]
  },
  {
   "cell_type": "code",
   "execution_count": null,
   "metadata": {},
   "outputs": [],
   "source": []
  }
 ],
 "metadata": {
  "kernelspec": {
   "display_name": "llava",
   "language": "python",
   "name": "python3"
  },
  "language_info": {
   "codemirror_mode": {
    "name": "ipython",
    "version": 3
   },
   "file_extension": ".py",
   "mimetype": "text/x-python",
   "name": "python",
   "nbconvert_exporter": "python",
   "pygments_lexer": "ipython3",
   "version": "3.10.14"
  }
 },
 "nbformat": 4,
 "nbformat_minor": 2
}
